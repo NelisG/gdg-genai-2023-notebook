{
 "cells": [
  {
   "cell_type": "markdown",
   "id": "f82bd407-6f2b-41dd-86af-de188bea2963",
   "metadata": {},
   "source": [
    "# Hello ML engineers!\n",
    "\n",
    "In this short notebook, you will be able to interact with GenAI through its python SDK."
   ]
  },
  {
   "cell_type": "code",
   "execution_count": null,
   "id": "2ed5b755-6786-4363-9653-8fa784d6b209",
   "metadata": {},
   "outputs": [],
   "source": [
    "import vertexai\n",
    "from vertexai.preview.language_models import ...\n",
    "# clue: https://cloud.google.com/python/docs/reference/aiplatform/latest/vertexai.preview.language_models"
   ]
  },
  {
   "cell_type": "markdown",
   "id": "977f7841-8456-4c2c-b380-5a949bbe552c",
   "metadata": {},
   "source": [
    "## Define your Language model and its parameters"
   ]
  },
  {
   "cell_type": "code",
   "execution_count": null,
   "id": "1828de7a-c57e-4a63-aabf-8fb2e7092774",
   "metadata": {},
   "outputs": [],
   "source": [
    "chat_model = ...\n",
    "context = ...\n",
    "\n",
    "max_output_tokens = ...\n",
    "temperature = ...\n",
    "top_k = ...\n",
    "top_p = ..."
   ]
  },
  {
   "cell_type": "markdown",
   "id": "7bdd8e60-3c5b-4d9b-a147-38bf28731848",
   "metadata": {},
   "source": [
    "## Define your session, so that the model remembers the previous interactions"
   ]
  },
  {
   "cell_type": "code",
   "execution_count": null,
   "id": "1b51c439-be85-4fe2-bd6c-467907bde856",
   "metadata": {},
   "outputs": [],
   "source": [
    "chat_session = ..."
   ]
  },
  {
   "cell_type": "code",
   "execution_count": null,
   "id": "ddf019cb-7ba4-45d0-8024-30af5699a528",
   "metadata": {},
   "outputs": [],
   "source": [
    "msg = ...\n",
    "chat_session.send_message(msg)"
   ]
  }
 ],
 "metadata": {
  "environment": {
   "kernel": "python3",
   "name": "common-cu113.m109",
   "type": "gcloud",
   "uri": "gcr.io/deeplearning-platform-release/base-cu113:m109"
  },
  "kernelspec": {
   "display_name": "Python 3",
   "language": "python",
   "name": "python3"
  },
  "language_info": {
   "codemirror_mode": {
    "name": "ipython",
    "version": 3
   },
   "file_extension": ".py",
   "mimetype": "text/x-python",
   "name": "python",
   "nbconvert_exporter": "python",
   "pygments_lexer": "ipython3",
   "version": "3.10.11"
  }
 },
 "nbformat": 4,
 "nbformat_minor": 5
}
